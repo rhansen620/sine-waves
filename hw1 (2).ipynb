{
  "cells": [
    {
      "cell_type": "markdown",
      "id": "bed9e09c",
      "metadata": {
        "deletable": false,
        "editable": false,
        "nbgrader": {
          "cell_type": "markdown",
          "checksum": "1d343529b108d012b3cd88e79d0942be",
          "grade": false,
          "grade_id": "header",
          "locked": true,
          "schema_version": 3,
          "solution": false,
          "task": false
        },
        "id": "bed9e09c"
      },
      "source": [
        "<img src='http://www.u.arizona.edu/~hammond/hltlogo1.png' style=\"float:right\">\n",
        "\n",
        "Linguistics 578<br>\n",
        "Fall 2022<br>\n",
        "Hammond\n",
        "\n",
        "## Things to remember about any homework assignment:\n",
        "\n",
        "1. For this assignment, you will edit this jupyter notebook and turn it in. Do not turn in pdf files or separate `.py` files.\n",
        "1. Late work is not accepted.\n",
        "1. Given the way I grade, you should try to answer *every* question, even if you don't like your answer or have to guess.\n",
        "1. You may *not* use `python` modules that we have not already used in class.\n",
        "1. You may certainly talk to your classmates about the assignment, but everybody must turn in *their own* work. It is not acceptable to turn in work that is essentially the same as the work of classmates.\n",
        "1. All code must run. It doesn't have to be perfect, it may not do all that you want it to do, but it must run without error.\n",
        "1. Code must run in reasonable time. Assume that if it takes more than *5 minutes* to run (on your machine), that's too long.\n",
        "1. Please do not add, remove, or copy autograded cells.\n",
        "1. Make sure to select `restart, run all cells` from the `kernel` menu when you're done and before you turn this in!"
      ]
    },
    {
      "cell_type": "markdown",
      "id": "a0eba066",
      "metadata": {
        "id": "a0eba066"
      },
      "source": [
        "***\n",
        "\n",
        "***my name***: Rachel Hansen\n",
        "\n",
        "***people I talked to about the assignment***: My cat, Freya, she's an expert at sine waves\n",
        "\n",
        "***"
      ]
    },
    {
      "cell_type": "markdown",
      "id": "ad7a66bd",
      "metadata": {
        "deletable": false,
        "editable": false,
        "nbgrader": {
          "cell_type": "markdown",
          "checksum": "25bf20cf883da9082eb41c4c4d03df31",
          "grade": false,
          "grade_id": "intro",
          "locked": true,
          "schema_version": 3,
          "solution": false,
          "task": false
        },
        "id": "ad7a66bd"
      },
      "source": [
        "## Homework #1\n",
        "\n",
        "Here are the imports. Please do not import anything else."
      ]
    },
    {
      "cell_type": "code",
      "execution_count": 166,
      "id": "4ea02d1b",
      "metadata": {
        "deletable": false,
        "editable": false,
        "nbgrader": {
          "cell_type": "code",
          "checksum": "c6303744f496c0f1d61fcbc7f5437f90",
          "grade": false,
          "grade_id": "imports",
          "locked": true,
          "schema_version": 3,
          "solution": false,
          "task": false
        },
        "id": "4ea02d1b"
      },
      "outputs": [],
      "source": [
        "import numpy as np\n",
        "from scipy.fftpack import rfft"
      ]
    },
    {
      "cell_type": "markdown",
      "id": "f3be86c0",
      "metadata": {
        "deletable": false,
        "editable": false,
        "nbgrader": {
          "cell_type": "markdown",
          "checksum": "13fbdc39c590a322ea95d7bf724f21f8",
          "grade": false,
          "grade_id": "q1text",
          "locked": true,
          "schema_version": 3,
          "solution": false,
          "task": false
        },
        "id": "f3be86c0"
      },
      "source": [
        "1. If we calculate sine from $0$ to $40$, how many cycles is that? (Be precise to two decimal points.)"
      ]
    },
    {
      "cell_type": "code",
      "execution_count": 167,
      "id": "862dc977",
      "metadata": {
        "deletable": false,
        "nbgrader": {
          "cell_type": "code",
          "checksum": "f14cb35d4f59673ce4274ee397dff900",
          "grade": false,
          "grade_id": "q1a",
          "locked": false,
          "schema_version": 3,
          "solution": true,
          "task": false
        },
        "colab": {
          "base_uri": "https://localhost:8080/"
        },
        "id": "862dc977",
        "outputId": "0fc57ea3-3d70-411e-eae7-29248d0cabf3"
      },
      "outputs": [
        {
          "output_type": "stream",
          "name": "stdout",
          "text": [
            "6.37\n"
          ]
        }
      ],
      "source": [
        "# YOUR CODE HERE\n",
        "cycles = 40/(2*np.pi)\n",
        "x=\"{:.2f}\".format(cycles)\n",
        "#raise NotImplementedError()\n",
        "#x = ?\n",
        "print (x)"
      ]
    },
    {
      "cell_type": "code",
      "execution_count": 168,
      "id": "b76fe545",
      "metadata": {
        "deletable": false,
        "editable": false,
        "nbgrader": {
          "cell_type": "code",
          "checksum": "327a1a8b133bb0d51f920179828053e2",
          "grade": true,
          "grade_id": "q1t1",
          "locked": true,
          "points": 1,
          "schema_version": 3,
          "solution": false,
          "task": false
        },
        "id": "b76fe545"
      },
      "outputs": [],
      "source": [
        "#this test is hidden!"
      ]
    },
    {
      "cell_type": "markdown",
      "id": "41b05908",
      "metadata": {
        "deletable": false,
        "editable": false,
        "nbgrader": {
          "cell_type": "markdown",
          "checksum": "2569a4bf50d96e2ac03d80df63f6654f",
          "grade": false,
          "grade_id": "q2text",
          "locked": true,
          "schema_version": 3,
          "solution": false,
          "task": false
        },
        "id": "41b05908"
      },
      "source": [
        "2. Write a function that will return a sine wave with `freq` cycles over `samples` samples."
      ]
    },
    {
      "cell_type": "code",
      "execution_count": 169,
      "id": "90dc823c",
      "metadata": {
        "deletable": false,
        "nbgrader": {
          "cell_type": "code",
          "checksum": "05769f19c13e5d8be4956848100abb92",
          "grade": false,
          "grade_id": "q2a",
          "locked": false,
          "schema_version": 3,
          "solution": true,
          "task": false
        },
        "id": "90dc823c"
      },
      "outputs": [],
      "source": [
        "def makesine(freq,samples):\n",
        "    '''make a sine wave\n",
        "    args:\n",
        "        freq: how many cycles\n",
        "        samples: how many samples\n",
        "    returns:\n",
        "        a numpy array with the sine wave\n",
        "    '''\n",
        "    numberoftimes = samples/(2*np.pi)\n",
        "    v = freq/numberoftimes\n",
        "    x = np.arange(0,samples, dtype=int)\n",
        "    print (len(np.sin(x * v)))\n",
        "    return(np.sin(x * v))\n",
        "\n",
        " #   raise NotImplementedError()"
      ]
    },
    {
      "cell_type": "code",
      "execution_count": 170,
      "id": "1ee8157b",
      "metadata": {
        "deletable": false,
        "editable": false,
        "nbgrader": {
          "cell_type": "code",
          "checksum": "9d9e448e7d2eb39393413e76cd140d59",
          "grade": true,
          "grade_id": "q2t1",
          "locked": true,
          "points": 1,
          "schema_version": 3,
          "solution": false,
          "task": false
        },
        "colab": {
          "base_uri": "https://localhost:8080/"
        },
        "id": "1ee8157b",
        "outputId": "05ff496e-049d-402e-a676-71f0b0be9596"
      },
      "outputs": [
        {
          "output_type": "stream",
          "name": "stdout",
          "text": [
            "1000\n"
          ]
        }
      ],
      "source": [
        "res = makesine(10,1000)\n",
        "assert len(res) == 1000"
      ]
    },
    {
      "cell_type": "code",
      "execution_count": 171,
      "id": "06f2c55a",
      "metadata": {
        "deletable": false,
        "editable": false,
        "nbgrader": {
          "cell_type": "code",
          "checksum": "6eea132ae9c799302a325276384d6fdc",
          "grade": true,
          "grade_id": "q2t2",
          "locked": true,
          "points": 1,
          "schema_version": 3,
          "solution": false,
          "task": false
        },
        "id": "06f2c55a"
      },
      "outputs": [],
      "source": [
        "assert np.isclose(max(res),1,atol=.1)"
      ]
    },
    {
      "cell_type": "code",
      "execution_count": 172,
      "id": "5f04bd25",
      "metadata": {
        "deletable": false,
        "editable": false,
        "nbgrader": {
          "cell_type": "code",
          "checksum": "34c18963ddc99d58f1b6182b6d559ac9",
          "grade": true,
          "grade_id": "q2t3",
          "locked": true,
          "points": 1,
          "schema_version": 3,
          "solution": false,
          "task": false
        },
        "id": "5f04bd25"
      },
      "outputs": [],
      "source": [
        "assert np.isclose(min(res),-1,atol=.1)"
      ]
    },
    {
      "cell_type": "code",
      "execution_count": 173,
      "id": "6c6b6afd",
      "metadata": {
        "deletable": false,
        "editable": false,
        "nbgrader": {
          "cell_type": "code",
          "checksum": "14fb9294397c7ca807f4362303a0b42e",
          "grade": true,
          "grade_id": "q2t4",
          "locked": true,
          "points": 1,
          "schema_version": 3,
          "solution": false,
          "task": false
        },
        "id": "6c6b6afd"
      },
      "outputs": [],
      "source": [
        "zeros = 0\n",
        "for i in range(1,len(res)):\n",
        "    if res[i]*res[i-1] <= 0: zeros += 1\n",
        "zeros //= 2\n",
        "assert zeros == 10"
      ]
    },
    {
      "cell_type": "markdown",
      "id": "d0179e90",
      "metadata": {
        "deletable": false,
        "editable": false,
        "nbgrader": {
          "cell_type": "markdown",
          "checksum": "c7d90956359e663b4f92072ae8f46be7",
          "grade": false,
          "grade_id": "q3text",
          "locked": true,
          "schema_version": 3,
          "solution": false,
          "task": false
        },
        "id": "d0179e90"
      },
      "source": [
        "3. Now write a function that will return a sine wave with a specific frequency, sample rate, *and* duration (in seconds). (You may call your previous function or not, as you choose.)"
      ]
    },
    {
      "cell_type": "code",
      "execution_count": 174,
      "id": "37b44052",
      "metadata": {
        "deletable": false,
        "nbgrader": {
          "cell_type": "code",
          "checksum": "1277a759aa84625ec3c391018eb99db2",
          "grade": false,
          "grade_id": "q3a",
          "locked": false,
          "schema_version": 3,
          "solution": true,
          "task": false
        },
        "id": "37b44052"
      },
      "outputs": [],
      "source": [
        "def makewave(freq,samples,duration):\n",
        "    '''make a sine wave with a specific duration\n",
        "    args:\n",
        "        freq: frequency of the wave\n",
        "        samples: how many samples per second\n",
        "        duration: how long (in seconds)\n",
        "    returns:\n",
        "        the wave as a numpy array\n",
        "    '''\n",
        "    samples = samples * duration\n",
        "    freq = freq * duration\n",
        "    numberoftimes = samples/(2*np.pi)\n",
        "    v = freq/numberoftimes\n",
        "    x = np.arange(0,samples)\n",
        "  #  print (len(x))\n",
        "  #  print(len(np.sin(x)))\n",
        "    return(np.sin(x * v))\n",
        "  #  raise NotImplementedError()"
      ]
    },
    {
      "cell_type": "code",
      "source": [
        "makewave(100,1000,1.2)"
      ],
      "metadata": {
        "colab": {
          "base_uri": "https://localhost:8080/"
        },
        "id": "6Ij_3Ky-y141",
        "outputId": "c09c8ebd-87aa-4caf-9fa2-977fef939aeb"
      },
      "id": "6Ij_3Ky-y141",
      "execution_count": 175,
      "outputs": [
        {
          "output_type": "execute_result",
          "data": {
            "text/plain": [
              "array([ 0.        ,  0.58778525,  0.95105652, ..., -0.95105652,\n",
              "       -0.95105652, -0.58778525])"
            ]
          },
          "metadata": {},
          "execution_count": 175
        }
      ]
    },
    {
      "cell_type": "code",
      "execution_count": 176,
      "id": "973a124f",
      "metadata": {
        "deletable": false,
        "editable": false,
        "nbgrader": {
          "cell_type": "code",
          "checksum": "df175e2ee49414d299653217248dc8a9",
          "grade": true,
          "grade_id": "q3t1",
          "locked": true,
          "points": 1,
          "schema_version": 3,
          "solution": false,
          "task": false
        },
        "id": "973a124f"
      },
      "outputs": [],
      "source": [
        "res2 = makewave(100,1000,1.2)\n",
        "assert len(res2) == 1200"
      ]
    },
    {
      "cell_type": "code",
      "execution_count": 177,
      "id": "0871985c",
      "metadata": {
        "deletable": false,
        "editable": false,
        "nbgrader": {
          "cell_type": "code",
          "checksum": "28a1c8f1c614521cb7191a8370b0e518",
          "grade": true,
          "grade_id": "q3t2",
          "locked": true,
          "points": 1,
          "schema_version": 3,
          "solution": false,
          "task": false
        },
        "id": "0871985c"
      },
      "outputs": [],
      "source": [
        "assert np.isclose(max(res2),1,atol=.1)"
      ]
    },
    {
      "cell_type": "code",
      "execution_count": 178,
      "id": "ae340255",
      "metadata": {
        "deletable": false,
        "editable": false,
        "nbgrader": {
          "cell_type": "code",
          "checksum": "87f52ac0a5b91e75bd1fcbc72d63498b",
          "grade": true,
          "grade_id": "q3t3",
          "locked": true,
          "points": 1,
          "schema_version": 3,
          "solution": false,
          "task": false
        },
        "id": "ae340255"
      },
      "outputs": [],
      "source": [
        "assert np.isclose(min(res2),-1,atol=.1)"
      ]
    },
    {
      "cell_type": "code",
      "execution_count": 179,
      "id": "c2cd617b",
      "metadata": {
        "deletable": false,
        "editable": false,
        "nbgrader": {
          "cell_type": "code",
          "checksum": "82225987a0727b2de114f5d7c6b0d1de",
          "grade": true,
          "grade_id": "q3t4",
          "locked": true,
          "points": 1,
          "schema_version": 3,
          "solution": false,
          "task": false
        },
        "colab": {
          "base_uri": "https://localhost:8080/"
        },
        "id": "c2cd617b",
        "outputId": "99e07d79-173c-4460-cee3-b21856164ed9"
      },
      "outputs": [
        {
          "output_type": "stream",
          "name": "stdout",
          "text": [
            "120\n"
          ]
        }
      ],
      "source": [
        "zeros = 0\n",
        "for i in range(1,len(res2)):\n",
        "    if res2[i]*res2[i-1] <= 0: zeros += 1\n",
        "zeros //= 2\n",
        "print (zeros)\n",
        "assert zeros == 120"
      ]
    },
    {
      "cell_type": "markdown",
      "id": "9ea2681c",
      "metadata": {
        "deletable": false,
        "editable": false,
        "nbgrader": {
          "cell_type": "markdown",
          "checksum": "448f11c3d07da064db39cd02a6998896",
          "grade": false,
          "grade_id": "q4text",
          "locked": true,
          "schema_version": 3,
          "solution": false,
          "task": false
        },
        "id": "9ea2681c"
      },
      "source": [
        "4. Now write a function that returns whether some hypothetical harmonic is consistent with a specific fundamental frequency."
      ]
    },
    {
      "cell_type": "code",
      "execution_count": 180,
      "id": "95ae8abc",
      "metadata": {
        "deletable": false,
        "nbgrader": {
          "cell_type": "code",
          "checksum": "ddea4b03d46a990c5d6ed1d927882d01",
          "grade": false,
          "grade_id": "q4a",
          "locked": false,
          "schema_version": 3,
          "solution": true,
          "task": false
        },
        "id": "95ae8abc"
      },
      "outputs": [],
      "source": [
        "def harmonic(f0,h):\n",
        "    '''checks if a harmonic frequency is legit\n",
        "    args:\n",
        "        f0: fundamental frequency of the complex wave\n",
        "        h: harmonic frequency\n",
        "    returns:\n",
        "        boolean\n",
        "    '''\n",
        "    # YOUR CODE HERE\n",
        "    return h % f0 == 0\n",
        "\n",
        "    raise NotImplementedError()"
      ]
    },
    {
      "cell_type": "code",
      "execution_count": 181,
      "id": "cef7fc35",
      "metadata": {
        "deletable": false,
        "editable": false,
        "nbgrader": {
          "cell_type": "code",
          "checksum": "8a9e2b069a7fd258327b1f02aafe799e",
          "grade": true,
          "grade_id": "q4t1",
          "locked": true,
          "points": 1,
          "schema_version": 3,
          "solution": false,
          "task": false
        },
        "id": "cef7fc35"
      },
      "outputs": [],
      "source": [
        "assert harmonic(50,150)"
      ]
    },
    {
      "cell_type": "code",
      "execution_count": 182,
      "id": "882b5a87",
      "metadata": {
        "deletable": false,
        "editable": false,
        "nbgrader": {
          "cell_type": "code",
          "checksum": "63b73f3d211b02a65085aac29f6de70f",
          "grade": true,
          "grade_id": "q4t2",
          "locked": true,
          "points": 1,
          "schema_version": 3,
          "solution": false,
          "task": false
        },
        "id": "882b5a87"
      },
      "outputs": [],
      "source": [
        "assert harmonic(50,50)"
      ]
    },
    {
      "cell_type": "code",
      "execution_count": 183,
      "id": "57c4e980",
      "metadata": {
        "deletable": false,
        "editable": false,
        "nbgrader": {
          "cell_type": "code",
          "checksum": "5885fabc465318c6eecdc6bc664d3de7",
          "grade": true,
          "grade_id": "q4t3",
          "locked": true,
          "points": 1,
          "schema_version": 3,
          "solution": false,
          "task": false
        },
        "id": "57c4e980"
      },
      "outputs": [],
      "source": [
        "assert harmonic(60,100) == False"
      ]
    },
    {
      "cell_type": "markdown",
      "id": "c26c062d",
      "metadata": {
        "deletable": false,
        "editable": false,
        "nbgrader": {
          "cell_type": "markdown",
          "checksum": "7fbbc87b455cd57293b7bf8c9df379be",
          "grade": false,
          "grade_id": "q5text",
          "locked": true,
          "schema_version": 3,
          "solution": false,
          "task": false
        },
        "id": "c26c062d"
      },
      "source": [
        "5. Write a function that will generate a pulse train. Your function will take four arguments: the fundamental frequency, the maximum frequency for the harmonics, the duration (in seconds), and the sample rate (per second). All harmonics should have the same amplitude and the maximum amplitude of the complex wave should be $1$. (You may call your previous functions if you choose.)"
      ]
    },
    {
      "cell_type": "code",
      "execution_count": 184,
      "id": "f02a4950",
      "metadata": {
        "deletable": false,
        "nbgrader": {
          "cell_type": "code",
          "checksum": "ad45989059e4f8994a614ec4eee7e4ec",
          "grade": false,
          "grade_id": "q5a",
          "locked": false,
          "schema_version": 3,
          "solution": true,
          "task": false
        },
        "id": "f02a4950"
      },
      "outputs": [],
      "source": [
        "def pulsetrain(f0,freqmax,duration,samples):\n",
        "    '''make a pulse train\n",
        "    args:\n",
        "        f0: fundamental frequency of the complex wave\n",
        "        freqmax: maximum frequency for harmonics\n",
        "        duration: duration in seconds\n",
        "        samples: sample rate (per second)\n",
        "    returns:\n",
        "        wave as numpy array\n",
        "    '''\n",
        "    # YOUR CODE HERE\n",
        "    freqarray = []\n",
        "    tempfreq = f0\n",
        "    while tempfreq <= freqmax:\n",
        "      freqarray.append(tempfreq)\n",
        "      tempfreq = tempfreq + f0\n",
        "    \n",
        "    wavesarray = []\n",
        "    for freq in freqarray:\n",
        "      wave = makewave(freq, samples, duration).tolist()\n",
        "      wavesarray.append(wave)\n",
        "\n",
        "    pulsearray = []\n",
        "    for i in range(len(wavesarray[0])):\n",
        "      pulsearray.append(0)\n",
        "      for wave in wavesarray:\n",
        "        pulsearray[-1] = pulsearray[-1] + wave[i]\n",
        "    \n",
        "    for i in range(len(pulsearray)):\n",
        "      if pulsearray[i] > 1.0:\n",
        "        pulsearray[i] = 1.0\n",
        "      elif pulsearray[i] < -1.0:\n",
        "        pulsearray[i] = -1.0\n",
        "\n",
        "    return np.array(pulsearray)  \n",
        "  # raise NotImplementedError()"
      ]
    },
    {
      "cell_type": "code",
      "execution_count": 185,
      "id": "6f8d55fe",
      "metadata": {
        "deletable": false,
        "editable": false,
        "nbgrader": {
          "cell_type": "code",
          "checksum": "cc7b28f4e229532c9b14cbcb5d88a240",
          "grade": true,
          "grade_id": "q5t1",
          "locked": true,
          "points": 1,
          "schema_version": 3,
          "solution": false,
          "task": false
        },
        "id": "6f8d55fe"
      },
      "outputs": [],
      "source": [
        "res3 = pulsetrain(100,2000,1,10000)\n",
        "assert len(res3) == 10000"
      ]
    },
    {
      "cell_type": "code",
      "execution_count": 186,
      "id": "f3cb72cf",
      "metadata": {
        "deletable": false,
        "editable": false,
        "nbgrader": {
          "cell_type": "code",
          "checksum": "04c16754314d3d728eb8a739d5308ebc",
          "grade": true,
          "grade_id": "q5t2",
          "locked": true,
          "points": 1,
          "schema_version": 3,
          "solution": false,
          "task": false
        },
        "id": "f3cb72cf"
      },
      "outputs": [],
      "source": [
        "assert np.isclose(res3.max(),1.0,atol=.1)"
      ]
    },
    {
      "cell_type": "code",
      "execution_count": 187,
      "id": "8b4777c3",
      "metadata": {
        "deletable": false,
        "editable": false,
        "nbgrader": {
          "cell_type": "code",
          "checksum": "d84dde85b39c790cf98aec4173842d53",
          "grade": true,
          "grade_id": "q5t3",
          "locked": true,
          "points": 1,
          "schema_version": 3,
          "solution": false,
          "task": false
        },
        "id": "8b4777c3"
      },
      "outputs": [],
      "source": [
        "yf = rfft(res3)\n",
        "assert yf[800] < -250"
      ]
    },
    {
      "cell_type": "code",
      "execution_count": 188,
      "id": "48fcec08",
      "metadata": {
        "deletable": false,
        "editable": false,
        "nbgrader": {
          "cell_type": "code",
          "checksum": "cf65f63c2f39a5c0f89f5096a5759c9f",
          "grade": true,
          "grade_id": "q5t4",
          "locked": true,
          "points": 1,
          "schema_version": 3,
          "solution": false,
          "task": false
        },
        "id": "48fcec08"
      },
      "outputs": [],
      "source": [
        "assert yf[3800] < -250"
      ]
    }
  ],
  "metadata": {
    "kernelspec": {
      "display_name": "Python 3 (ipykernel)",
      "language": "python",
      "name": "python3"
    },
    "language_info": {
      "codemirror_mode": {
        "name": "ipython",
        "version": 3
      },
      "file_extension": ".py",
      "mimetype": "text/x-python",
      "name": "python",
      "nbconvert_exporter": "python",
      "pygments_lexer": "ipython3",
      "version": "3.8.10"
    },
    "colab": {
      "name": "hw1.ipynb",
      "provenance": []
    }
  },
  "nbformat": 4,
  "nbformat_minor": 5
}